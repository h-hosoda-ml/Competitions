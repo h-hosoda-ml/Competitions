{
 "cells": [
  {
   "cell_type": "markdown",
   "metadata": {},
   "source": [
    "# Optunaを用いてパラメータチューニング"
   ]
  },
  {
   "cell_type": "code",
   "execution_count": 1,
   "metadata": {},
   "outputs": [],
   "source": [
    "import os\n",
    "import sys\n",
    "\n",
    "import numpy as np\n",
    "import matplotlib.pyplot as plt\n",
    "import pandas as pd\n",
    "from sklearn.model_selection import KFold\n",
    "\n",
    "import optuna\n",
    "import lightgbm as lgb\n",
    "\n",
    "sys.path.append(os.path.abspath(os.path.join(os.getcwd(), os.pardir)))\n",
    "from conf.config import DIRS, PARAMS, CFG\n",
    "from utils import DataLoader, DataProcesser, DataEnginner, cross_val_train, model_cv, regular_tuning, new_tuning"
   ]
  },
  {
   "cell_type": "markdown",
   "metadata": {},
   "source": [
    "# 従来の手法"
   ]
  },
  {
   "cell_type": "markdown",
   "metadata": {},
   "source": [
    "### データの読み込み"
   ]
  },
  {
   "cell_type": "code",
   "execution_count": 2,
   "metadata": {},
   "outputs": [
    {
     "name": "stdout",
     "output_type": "stream",
     "text": [
      "train dataの中に欠損値はありませんでした。\n",
      "test dataの中に欠損値はありませんでした。\n",
      "Train shape: (90615, 8)   test shape: (60411, 8)\n"
     ]
    },
    {
     "data": {
      "text/html": [
       "<div>\n",
       "<style scoped>\n",
       "    .dataframe tbody tr th:only-of-type {\n",
       "        vertical-align: middle;\n",
       "    }\n",
       "\n",
       "    .dataframe tbody tr th {\n",
       "        vertical-align: top;\n",
       "    }\n",
       "\n",
       "    .dataframe thead th {\n",
       "        text-align: right;\n",
       "    }\n",
       "</style>\n",
       "<table border=\"1\" class=\"dataframe\">\n",
       "  <thead>\n",
       "    <tr style=\"text-align: right;\">\n",
       "      <th></th>\n",
       "      <th>Sex</th>\n",
       "      <th>Length</th>\n",
       "      <th>Diameter</th>\n",
       "      <th>Height</th>\n",
       "      <th>Whole weight</th>\n",
       "      <th>Whole weight.1</th>\n",
       "      <th>Whole weight.2</th>\n",
       "      <th>Shell weight</th>\n",
       "    </tr>\n",
       "    <tr>\n",
       "      <th>id</th>\n",
       "      <th></th>\n",
       "      <th></th>\n",
       "      <th></th>\n",
       "      <th></th>\n",
       "      <th></th>\n",
       "      <th></th>\n",
       "      <th></th>\n",
       "      <th></th>\n",
       "    </tr>\n",
       "  </thead>\n",
       "  <tbody>\n",
       "    <tr>\n",
       "      <th>0</th>\n",
       "      <td>F</td>\n",
       "      <td>0.550</td>\n",
       "      <td>0.430</td>\n",
       "      <td>0.150</td>\n",
       "      <td>0.7715</td>\n",
       "      <td>0.3285</td>\n",
       "      <td>0.1465</td>\n",
       "      <td>0.2400</td>\n",
       "    </tr>\n",
       "    <tr>\n",
       "      <th>1</th>\n",
       "      <td>F</td>\n",
       "      <td>0.630</td>\n",
       "      <td>0.490</td>\n",
       "      <td>0.145</td>\n",
       "      <td>1.1300</td>\n",
       "      <td>0.4580</td>\n",
       "      <td>0.2765</td>\n",
       "      <td>0.3200</td>\n",
       "    </tr>\n",
       "    <tr>\n",
       "      <th>2</th>\n",
       "      <td>I</td>\n",
       "      <td>0.160</td>\n",
       "      <td>0.110</td>\n",
       "      <td>0.025</td>\n",
       "      <td>0.0210</td>\n",
       "      <td>0.0055</td>\n",
       "      <td>0.0030</td>\n",
       "      <td>0.0050</td>\n",
       "    </tr>\n",
       "    <tr>\n",
       "      <th>3</th>\n",
       "      <td>M</td>\n",
       "      <td>0.595</td>\n",
       "      <td>0.475</td>\n",
       "      <td>0.150</td>\n",
       "      <td>0.9145</td>\n",
       "      <td>0.3755</td>\n",
       "      <td>0.2055</td>\n",
       "      <td>0.2500</td>\n",
       "    </tr>\n",
       "    <tr>\n",
       "      <th>4</th>\n",
       "      <td>I</td>\n",
       "      <td>0.555</td>\n",
       "      <td>0.425</td>\n",
       "      <td>0.130</td>\n",
       "      <td>0.7820</td>\n",
       "      <td>0.3695</td>\n",
       "      <td>0.1600</td>\n",
       "      <td>0.1975</td>\n",
       "    </tr>\n",
       "    <tr>\n",
       "      <th>...</th>\n",
       "      <td>...</td>\n",
       "      <td>...</td>\n",
       "      <td>...</td>\n",
       "      <td>...</td>\n",
       "      <td>...</td>\n",
       "      <td>...</td>\n",
       "      <td>...</td>\n",
       "      <td>...</td>\n",
       "    </tr>\n",
       "    <tr>\n",
       "      <th>90610</th>\n",
       "      <td>M</td>\n",
       "      <td>0.335</td>\n",
       "      <td>0.235</td>\n",
       "      <td>0.075</td>\n",
       "      <td>0.1585</td>\n",
       "      <td>0.0685</td>\n",
       "      <td>0.0370</td>\n",
       "      <td>0.0450</td>\n",
       "    </tr>\n",
       "    <tr>\n",
       "      <th>90611</th>\n",
       "      <td>M</td>\n",
       "      <td>0.555</td>\n",
       "      <td>0.425</td>\n",
       "      <td>0.150</td>\n",
       "      <td>0.8790</td>\n",
       "      <td>0.3865</td>\n",
       "      <td>0.1815</td>\n",
       "      <td>0.2400</td>\n",
       "    </tr>\n",
       "    <tr>\n",
       "      <th>90612</th>\n",
       "      <td>I</td>\n",
       "      <td>0.435</td>\n",
       "      <td>0.330</td>\n",
       "      <td>0.095</td>\n",
       "      <td>0.3215</td>\n",
       "      <td>0.1510</td>\n",
       "      <td>0.0785</td>\n",
       "      <td>0.0815</td>\n",
       "    </tr>\n",
       "    <tr>\n",
       "      <th>90613</th>\n",
       "      <td>I</td>\n",
       "      <td>0.345</td>\n",
       "      <td>0.270</td>\n",
       "      <td>0.075</td>\n",
       "      <td>0.2000</td>\n",
       "      <td>0.0980</td>\n",
       "      <td>0.0490</td>\n",
       "      <td>0.0700</td>\n",
       "    </tr>\n",
       "    <tr>\n",
       "      <th>90614</th>\n",
       "      <td>I</td>\n",
       "      <td>0.425</td>\n",
       "      <td>0.325</td>\n",
       "      <td>0.100</td>\n",
       "      <td>0.3455</td>\n",
       "      <td>0.1525</td>\n",
       "      <td>0.0785</td>\n",
       "      <td>0.1050</td>\n",
       "    </tr>\n",
       "  </tbody>\n",
       "</table>\n",
       "<p>90615 rows × 8 columns</p>\n",
       "</div>"
      ],
      "text/plain": [
       "      Sex  Length  Diameter  Height  Whole weight  Whole weight.1  \\\n",
       "id                                                                  \n",
       "0       F   0.550     0.430   0.150        0.7715          0.3285   \n",
       "1       F   0.630     0.490   0.145        1.1300          0.4580   \n",
       "2       I   0.160     0.110   0.025        0.0210          0.0055   \n",
       "3       M   0.595     0.475   0.150        0.9145          0.3755   \n",
       "4       I   0.555     0.425   0.130        0.7820          0.3695   \n",
       "...    ..     ...       ...     ...           ...             ...   \n",
       "90610   M   0.335     0.235   0.075        0.1585          0.0685   \n",
       "90611   M   0.555     0.425   0.150        0.8790          0.3865   \n",
       "90612   I   0.435     0.330   0.095        0.3215          0.1510   \n",
       "90613   I   0.345     0.270   0.075        0.2000          0.0980   \n",
       "90614   I   0.425     0.325   0.100        0.3455          0.1525   \n",
       "\n",
       "       Whole weight.2  Shell weight  \n",
       "id                                   \n",
       "0              0.1465        0.2400  \n",
       "1              0.2765        0.3200  \n",
       "2              0.0030        0.0050  \n",
       "3              0.2055        0.2500  \n",
       "4              0.1600        0.1975  \n",
       "...               ...           ...  \n",
       "90610          0.0370        0.0450  \n",
       "90611          0.1815        0.2400  \n",
       "90612          0.0785        0.0815  \n",
       "90613          0.0490        0.0700  \n",
       "90614          0.0785        0.1050  \n",
       "\n",
       "[90615 rows x 8 columns]"
      ]
     },
     "metadata": {},
     "output_type": "display_data"
    }
   ],
   "source": [
    "# データのロード\n",
    "dataloader = DataLoader()\n",
    "train_df, test_df = dataloader.load_data()\n",
    "\n",
    "# データの前処理\n",
    "dataprocesser = DataProcesser(train_df, test_df)\n",
    "trains, X_test = dataprocesser.preprocess()\n",
    "X_train, y_train = trains[\"X_train\"], trains[\"y_train\"]\n",
    "\n",
    "data_enginner = DataEnginner(X_train, X_test)\n",
    "X_train_pp, X_test_pp = data_enginner.execute()\n",
    "\n",
    "# 評価指標をRMSEにしたいので\n",
    "y_train = np.log1p(y_train)"
   ]
  },
  {
   "cell_type": "markdown",
   "metadata": {},
   "source": [
    "## パラメータ探索"
   ]
  },
  {
   "cell_type": "code",
   "execution_count": null,
   "metadata": {},
   "outputs": [],
   "source": [
    "study = optuna.create_study(study_name=\"optimization_lgb\", direction=\"minimize\")\n",
    "study.optimize(lambda trial: regular_tuning(trial, X_train_pp, y_train), n_trials=100)\n",
    "\n",
    "print(f\"Number of finished trials: {len(study.trials)}\")\n",
    "print(f\"Beset Trial: {study.best_trial.params}\")"
   ]
  },
  {
   "cell_type": "code",
   "execution_count": 4,
   "metadata": {},
   "outputs": [
    {
     "data": {
      "text/plain": [
       "{'learning_rate': 0.025258393107978006,\n",
       " 'max_depth': 6,\n",
       " 'num_leaves': 34,\n",
       " 'min_data_in_leaf': 28,\n",
       " 'bagging_fraction': 0.5239212357004639,\n",
       " 'feature_fraction': 0.5592185917717165}"
      ]
     },
     "execution_count": 4,
     "metadata": {},
     "output_type": "execute_result"
    }
   ],
   "source": [
    "study.best_params"
   ]
  },
  {
   "cell_type": "code",
   "execution_count": 5,
   "metadata": {},
   "outputs": [],
   "source": [
    "optimized_param = {\n",
    "    \"objective\": \"regression\",\n",
    "    \"metric\": \"rmse\",\n",
    "    \"verbosity\": -1,\n",
    "    \"random_state\": PARAMS[\"seed\"],\n",
    "    'learning_rate': 0.025258393107978006,\n",
    "    'max_depth': 6,\n",
    "    'num_leaves': 34,\n",
    "    'min_data_in_leaf': 28,\n",
    "    'bagging_fraction': 0.5239212357004639,\n",
    "    'feature_fraction': 0.5592185917717165\n",
    "}"
   ]
  },
  {
   "cell_type": "code",
   "execution_count": 7,
   "metadata": {},
   "outputs": [
    {
     "name": "stdout",
     "output_type": "stream",
     "text": [
      "Training until validation scores don't improve for 100 rounds\n",
      "[500]\tvalid_0's rmse: 0.151649\n",
      "[1000]\tvalid_0's rmse: 0.15055\n",
      "[1500]\tvalid_0's rmse: 0.150173\n",
      "[2000]\tvalid_0's rmse: 0.149929\n",
      "Early stopping, best iteration is:\n",
      "[2326]\tvalid_0's rmse: 0.149856\n",
      "Fold: 0   Train RMSLE: 0.1351  Val RMSLE: 0.1499\n",
      "--------------------------------------------------\n",
      "Training until validation scores don't improve for 100 rounds\n",
      "[500]\tvalid_0's rmse: 0.150605\n",
      "[1000]\tvalid_0's rmse: 0.149824\n",
      "[1500]\tvalid_0's rmse: 0.149582\n",
      "Early stopping, best iteration is:\n",
      "[1821]\tvalid_0's rmse: 0.149517\n",
      "Fold: 1   Train RMSLE: 0.1372  Val RMSLE: 0.1495\n",
      "--------------------------------------------------\n",
      "Training until validation scores don't improve for 100 rounds\n",
      "[500]\tvalid_0's rmse: 0.149673\n",
      "[1000]\tvalid_0's rmse: 0.148862\n",
      "[1500]\tvalid_0's rmse: 0.148378\n",
      "[2000]\tvalid_0's rmse: 0.148217\n",
      "Early stopping, best iteration is:\n",
      "[1987]\tvalid_0's rmse: 0.148213\n",
      "Fold: 2   Train RMSLE: 0.1370  Val RMSLE: 0.1482\n",
      "--------------------------------------------------\n",
      "Training until validation scores don't improve for 100 rounds\n",
      "[500]\tvalid_0's rmse: 0.148888\n",
      "[1000]\tvalid_0's rmse: 0.148323\n",
      "[1500]\tvalid_0's rmse: 0.148101\n",
      "Early stopping, best iteration is:\n",
      "[1763]\tvalid_0's rmse: 0.148004\n",
      "Fold: 3   Train RMSLE: 0.1378  Val RMSLE: 0.1480\n",
      "--------------------------------------------------\n",
      "Training until validation scores don't improve for 100 rounds\n",
      "[500]\tvalid_0's rmse: 0.146745\n",
      "[1000]\tvalid_0's rmse: 0.146111\n",
      "Early stopping, best iteration is:\n",
      "[1388]\tvalid_0's rmse: 0.145944\n",
      "Fold: 4   Train RMSLE: 0.1398  Val RMSLE: 0.1459\n",
      "--------------------------------------------------\n"
     ]
    }
   ],
   "source": [
    "val_scores, val_preds, test_preds = cross_val_train(X_train_pp, y_train, X_test, optimized_param)"
   ]
  },
  {
   "cell_type": "code",
   "execution_count": 8,
   "metadata": {},
   "outputs": [
    {
     "name": "stdout",
     "output_type": "stream",
     "text": [
      "Mean RMSLE: 0.14831\n"
     ]
    }
   ],
   "source": [
    "print(f\"Mean RMSLE: {np.mean(val_scores):.5f}\")"
   ]
  },
  {
   "cell_type": "markdown",
   "metadata": {},
   "source": [
    "## submitの作成"
   ]
  },
  {
   "cell_type": "code",
   "execution_count": 9,
   "metadata": {},
   "outputs": [],
   "source": [
    "# submitのidを抽出\n",
    "sub = test_df.reset_index()[[\"id\"]]\n",
    "\n",
    "sub[\"Rings\"] = np.exp(test_preds) - 1\n",
    "sub.to_csv(os.path.join(DIRS[\"OUTPUT\"], \"submission_ropt.csv\"), index=False)"
   ]
  },
  {
   "cell_type": "markdown",
   "metadata": {},
   "source": [
    "スコアは0.14643であった 。\\\n",
    "チューニング前と比較すると、少し向上した。\n",
    "\n",
    "# 新しいチューニング手法"
   ]
  },
  {
   "cell_type": "code",
   "execution_count": null,
   "metadata": {},
   "outputs": [],
   "source": [
    "# チューニング済みのパラメータを使ってみる\n",
    "params =  {\n",
    "    \"objective\": \"regression\",\n",
    "    \"metric\": \"rmse\",\n",
    "    \"verbosity\": -1,\n",
    "    \"random_state\": PARAMS[\"seed\"],\n",
    "    'learning_rate': 0.025258393107978006,\n",
    "    'max_depth': 6,\n",
    "    'num_leaves': 34,\n",
    "    'min_data_in_leaf': 28,\n",
    "    'bagging_fraction': 0.5239212357004639,\n",
    "    'feature_fraction': 0.5592185917717165\n",
    "}\n",
    "\n",
    "model = new_tuning(X_train_pp, y_train, params=params)"
   ]
  },
  {
   "cell_type": "code",
   "execution_count": 5,
   "metadata": {},
   "outputs": [
    {
     "name": "stdout",
     "output_type": "stream",
     "text": [
      "Best params: \n",
      "{'objective': 'regression', 'metric': 'rmse', 'verbosity': -1, 'random_state': 42, 'learning_rate': 0.025258393107978006, 'max_depth': 6, 'num_leaves': 34, 'bagging_fraction': 0.973535237083564, 'feature_fraction': 0.4, 'feature_pre_filter': False, 'min_child_samples': 28, 'lambda_l1': 0.4582719833044848, 'lambda_l2': 0.008518290813950797, 'bagging_freq': 1, 'num_iterations': 3000}\n"
     ]
    }
   ],
   "source": [
    "new_opt_params = model.params # 再調整後のパラメータ\n",
    "print(f\"Best params: \\n{new_opt_params}\")"
   ]
  },
  {
   "cell_type": "code",
   "execution_count": null,
   "metadata": {},
   "outputs": [],
   "source": [
    "val_scores, val_preds, test_preds = cross_val_train(X_train_pp, y_train, X_test_pp, new_opt_params)\n",
    "print(f\"Mean RMSLE: {np.mean(val_scores):.5f}\")"
   ]
  },
  {
   "cell_type": "markdown",
   "metadata": {},
   "source": [
    "## Submitの作成"
   ]
  },
  {
   "cell_type": "code",
   "execution_count": 7,
   "metadata": {},
   "outputs": [],
   "source": [
    "# submitのidを抽出\n",
    "sub = test_df.reset_index()[[\"id\"]]\n",
    "\n",
    "sub[\"Rings\"] = np.exp(test_preds) - 1\n",
    "sub.to_csv(os.path.join(DIRS[\"OUTPUT\"], \"submission_new_opt.csv\"), index=False)"
   ]
  },
  {
   "cell_type": "markdown",
   "metadata": {},
   "source": [
    "スコアは0.14622であった。\\\n",
    "従来手法と比較して少し向上した。"
   ]
  },
  {
   "cell_type": "markdown",
   "metadata": {},
   "source": [
    "submit同士の平均をとって提出してみる"
   ]
  },
  {
   "cell_type": "code",
   "execution_count": 10,
   "metadata": {},
   "outputs": [],
   "source": [
    "sub_1 = pd.read_csv(os.path.join(DIRS[\"OUTPUT\"], \"submission_ropt.csv\"))\n",
    "sub_2 = pd.read_csv(os.path.join(DIRS[\"OUTPUT\"], \"submission_new_opt.csv\"))\n",
    "\n",
    "ids = sub_1[[\"id\"]]\n",
    "ring_mean = (sub_1[[\"Rings\"]] + sub_2[[\"Rings\"]]) / 2\n",
    "\n",
    "sub_fin = pd.concat((ids, ring_mean), axis=1)"
   ]
  },
  {
   "cell_type": "code",
   "execution_count": 13,
   "metadata": {},
   "outputs": [],
   "source": [
    "# 保存\n",
    "sub_fin.to_csv(os.path.join(DIRS[\"OUTPUT\"], \"submission_opt_mean.csv\"), index=False)"
   ]
  },
  {
   "cell_type": "markdown",
   "metadata": {},
   "source": [
    "スコアは0.14629であり、向上は見られなかった"
   ]
  }
 ],
 "metadata": {
  "kernelspec": {
   "display_name": ".venv",
   "language": "python",
   "name": "python3"
  },
  "language_info": {
   "codemirror_mode": {
    "name": "ipython",
    "version": 3
   },
   "file_extension": ".py",
   "mimetype": "text/x-python",
   "name": "python",
   "nbconvert_exporter": "python",
   "pygments_lexer": "ipython3",
   "version": "3.11.3"
  }
 },
 "nbformat": 4,
 "nbformat_minor": 2
}
